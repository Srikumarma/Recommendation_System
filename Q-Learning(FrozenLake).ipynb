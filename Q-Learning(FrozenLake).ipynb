{
 "cells": [
  {
   "cell_type": "code",
   "execution_count": 1,
   "id": "dab536f7",
   "metadata": {},
   "outputs": [],
   "source": [
    "import sys\n",
    "sys.path.append('/Users/pepul/Library/Python/3.8/lib/python/site-packages')\n",
    "\n",
    "import gym"
   ]
  },
  {
   "cell_type": "code",
   "execution_count": 2,
   "id": "998a8300",
   "metadata": {},
   "outputs": [],
   "source": [
    "import numpy as np\n",
    "import random\n",
    "import time\n",
    "from IPython.display import clear_output"
   ]
  },
  {
   "cell_type": "code",
   "execution_count": 3,
   "id": "76de6816",
   "metadata": {},
   "outputs": [],
   "source": [
    "env= gym.make('FrozenLake-v1')"
   ]
  },
  {
   "cell_type": "code",
   "execution_count": 4,
   "id": "e353d2fb",
   "metadata": {},
   "outputs": [
    {
     "data": {
      "text/plain": [
       "array([[0., 0., 0., 0.],\n",
       "       [0., 0., 0., 0.],\n",
       "       [0., 0., 0., 0.],\n",
       "       [0., 0., 0., 0.],\n",
       "       [0., 0., 0., 0.],\n",
       "       [0., 0., 0., 0.],\n",
       "       [0., 0., 0., 0.],\n",
       "       [0., 0., 0., 0.],\n",
       "       [0., 0., 0., 0.],\n",
       "       [0., 0., 0., 0.],\n",
       "       [0., 0., 0., 0.],\n",
       "       [0., 0., 0., 0.],\n",
       "       [0., 0., 0., 0.],\n",
       "       [0., 0., 0., 0.],\n",
       "       [0., 0., 0., 0.],\n",
       "       [0., 0., 0., 0.]])"
      ]
     },
     "execution_count": 4,
     "metadata": {},
     "output_type": "execute_result"
    }
   ],
   "source": [
    "action_space_size= env.action_space.n\n",
    "state_action_size= env.observation_space.n\n",
    "\n",
    "q_table= np.zeros((state_action_size,action_space_size))\n",
    "q_table"
   ]
  },
  {
   "cell_type": "code",
   "execution_count": 5,
   "id": "0f6796e2",
   "metadata": {},
   "outputs": [],
   "source": [
    "num_episodes = 10000\n",
    "max_steps_episode = 100\n",
    "\n",
    "learning_rate = 0.1\n",
    "discount_rate = 0.99\n",
    "\n",
    "exploration_rate = 1\n",
    "max_exploration_rate = 1\n",
    "min_exploration_rate = 0.01\n",
    "exploration_decay_rate = 0.001"
   ]
  },
  {
   "cell_type": "code",
   "execution_count": 6,
   "id": "ad9ec41e",
   "metadata": {},
   "outputs": [
    {
     "name": "stdout",
     "output_type": "stream",
     "text": [
      "Average reward per thousand episodes\n",
      "\n",
      "1000 :  0.03900000000000003\n",
      "2000 :  0.22500000000000017\n",
      "3000 :  0.4190000000000003\n",
      "4000 :  0.5730000000000004\n",
      "5000 :  0.6210000000000004\n",
      "6000 :  0.6370000000000005\n",
      "7000 :  0.6790000000000005\n",
      "8000 :  0.6910000000000005\n",
      "9000 :  0.6490000000000005\n",
      "10000 :  0.6940000000000005\n",
      "[[0.57680838 0.50082279 0.50811695 0.51111531]\n",
      " [0.30863542 0.35269322 0.34823254 0.5005782 ]\n",
      " [0.40536316 0.41008798 0.40202854 0.47801459]\n",
      " [0.23047476 0.3089273  0.37664391 0.44381762]\n",
      " [0.59063823 0.43952961 0.48690739 0.31262686]\n",
      " [0.         0.         0.         0.        ]\n",
      " [0.27197712 0.14404376 0.16317151 0.0694279 ]\n",
      " [0.         0.         0.         0.        ]\n",
      " [0.40457316 0.35620292 0.40855842 0.62106191]\n",
      " [0.45224084 0.68993342 0.54805289 0.45284781]\n",
      " [0.52973122 0.33643555 0.3834439  0.31648727]\n",
      " [0.         0.         0.         0.        ]\n",
      " [0.         0.         0.         0.        ]\n",
      " [0.51287992 0.59428215 0.8263746  0.48491383]\n",
      " [0.72204761 0.91438391 0.72560812 0.77006813]\n",
      " [0.         0.         0.         0.        ]]\n"
     ]
    }
   ],
   "source": [
    "rewards_all_episodes = []\n",
    "for episode in range(num_episodes):\n",
    "    state = env.reset()\n",
    "    (state,b) = state\n",
    "    done = False\n",
    "    rewards_current_episode = 0\n",
    "    for step in range(max_steps_episode): \n",
    "\n",
    "      # Exploration-exploitation trade-off\n",
    "        exploration_rate_threshold = random.uniform(0, 1)\n",
    "        if exploration_rate_threshold > exploration_rate:\n",
    "            action = np.argmax(q_table[state,:]) \n",
    "        else:\n",
    "            action = env.action_space.sample()\n",
    "        \n",
    "        new_state, reward, done,truncated, info = env.step(action)\n",
    "          # Update Q-table for Q(s,a)\n",
    "        q_table[state, action] = q_table[state, action] * (1 - learning_rate) + learning_rate * (reward + discount_rate * np.max(q_table[new_state, :]))\n",
    "\n",
    "        state = new_state\n",
    "        rewards_current_episode += reward \n",
    "\n",
    "        if done == True: \n",
    "            break\n",
    "            \n",
    "            \n",
    "    # Exploration rate decay\n",
    "    exploration_rate = min_exploration_rate + (max_exploration_rate - min_exploration_rate) * np.exp(-exploration_decay_rate*episode)\n",
    "\n",
    "    rewards_all_episodes.append(rewards_current_episode)\n",
    "    \n",
    "# Calculate and print the average reward per thousand episodes\n",
    "rewards_per_thousand_episodes = np.split(np.array(rewards_all_episodes),num_episodes/1000)\n",
    "count = 1000\n",
    "\n",
    "print(\"Average reward per thousand episodes\\n\")\n",
    "for r in rewards_per_thousand_episodes:\n",
    "    print(count, \": \", str(sum(r/1000)))\n",
    "    count += 1000\n",
    "\n",
    "print(q_table)"
   ]
  },
  {
   "cell_type": "code",
   "execution_count": 7,
   "id": "35e61f73",
   "metadata": {},
   "outputs": [
    {
     "name": "stdout",
     "output_type": "stream",
     "text": [
      "Reached the Goal\n"
     ]
    }
   ],
   "source": [
    "\n",
    "for episode in range(3):\n",
    "    state = env.reset()\n",
    "    (state,b) = state \n",
    "    \n",
    "    done = False\n",
    "    print(\"Episode: \",episode+1)\n",
    "    time.sleep(1)\n",
    "\n",
    "    for step in range(max_steps_episode):\n",
    "        clear_output(wait=True)\n",
    "        #env.render()\n",
    "        time.sleep(0.3)\n",
    "    \n",
    "        \n",
    "        action = np.argmax(q_table[state,:])\n",
    "        \n",
    "        new_state, reward, done ,truncated, info = env.step(action)\n",
    "\n",
    "        if done:\n",
    "            clear_output(wait= True)\n",
    "            #env.render()\n",
    "            if reward == 1:\n",
    "                print('Reached the Goal')\n",
    "                time.sleep(3)\n",
    "            else:\n",
    "                print('Fell in Hole')\n",
    "                time.sleep(3)\n",
    "            clear_output(wait=True)\n",
    "            break\n",
    "    \n",
    "        state = new_state\n",
    "env.close()"
   ]
  },
  {
   "cell_type": "code",
   "execution_count": null,
   "id": "733a60a6",
   "metadata": {},
   "outputs": [],
   "source": []
  }
 ],
 "metadata": {
  "kernelspec": {
   "display_name": "Python 3 (ipykernel)",
   "language": "python",
   "name": "python3"
  },
  "language_info": {
   "codemirror_mode": {
    "name": "ipython",
    "version": 3
   },
   "file_extension": ".py",
   "mimetype": "text/x-python",
   "name": "python",
   "nbconvert_exporter": "python",
   "pygments_lexer": "ipython3",
   "version": "3.9.13"
  }
 },
 "nbformat": 4,
 "nbformat_minor": 5
}
